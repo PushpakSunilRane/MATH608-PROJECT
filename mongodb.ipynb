{
 "cells": [
  {
   "cell_type": "markdown",
   "id": "85b085c8-b250-4634-b845-75412b5d18c1",
   "metadata": {},
   "source": [
    "# Create MongoDB Database"
   ]
  },
  {
   "cell_type": "code",
   "execution_count": 7,
   "id": "c63a6a95-12c9-4e5e-b182-8f9a62fdef24",
   "metadata": {},
   "outputs": [
    {
     "name": "stdout",
     "output_type": "stream",
     "text": [
      "Data has been created and stored in MongoDB collection 'sales'.\n"
     ]
    }
   ],
   "source": [
    "from pymongo import MongoClient\n",
    "\n",
    "def create_and_store_data():\n",
    "    # Connect to MongoDB (default is localhost:27017)\n",
    "    client = MongoClient('mongodb://localhost:27017/')\n",
    "    \n",
    "    # Create or access the database\n",
    "    db = client['sales_db']\n",
    "    \n",
    "    # Create or access the collection\n",
    "    sales_collection = db['sales']\n",
    "\n",
    "    # Sample data to insert\n",
    "    sales_data = [\n",
    "        {\"product\": \"Product A\", \"quantity\": 30},\n",
    "        {\"product\": \"Product B\", \"quantity\": 20},\n",
    "        {\"product\": \"Product C\", \"quantity\": 50}\n",
    "    ]\n",
    "\n",
    "    # Insert sample data into the collection\n",
    "    sales_collection.insert_many(sales_data)\n",
    "\n",
    "    # Close the connection\n",
    "    client.close()\n",
    "    print(\"Data has been created and stored in MongoDB collection 'sales'.\")\n",
    "\n",
    "# Main execution\n",
    "if __name__ == \"__main__\":\n",
    "    create_and_store_data()"
   ]
  },
  {
   "cell_type": "code",
   "execution_count": null,
   "id": "b2058ee3-df2c-4726-b394-781a527497ba",
   "metadata": {},
   "outputs": [],
   "source": []
  }
 ],
 "metadata": {
  "kernelspec": {
   "display_name": "Python 3 (ipykernel)",
   "language": "python",
   "name": "python3"
  },
  "language_info": {
   "codemirror_mode": {
    "name": "ipython",
    "version": 3
   },
   "file_extension": ".py",
   "mimetype": "text/x-python",
   "name": "python",
   "nbconvert_exporter": "python",
   "pygments_lexer": "ipython3",
   "version": "3.12.3"
  }
 },
 "nbformat": 4,
 "nbformat_minor": 5
}
