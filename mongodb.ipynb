{
 "cells": [
  {
   "cell_type": "markdown",
   "id": "85b085c8-b250-4634-b845-75412b5d18c1",
   "metadata": {},
   "source": [
    "# Create MongoDB Database"
   ]
  },
  {
   "cell_type": "code",
   "execution_count": 22,
   "id": "1a5270b2-9d55-4a30-af30-23204b94d41f",
   "metadata": {},
   "outputs": [
    {
     "name": "stdout",
     "output_type": "stream",
     "text": [
      "Data has been created and stored in MongoDB collection 'grades'.\n"
     ]
    }
   ],
   "source": [
    "from pymongo import MongoClient,ASCENDING\n",
    "from pymongo.errors import BulkWriteError\n",
    "\n",
    "def store_data():\n",
    "    student = MongoClient('mongodb://localhost:27017/')\n",
    "    \n",
    "    ds = student[\"grades_db\"]\n",
    "    \n",
    "    grades_collection = ds[\"grades\"]\n",
    "    \n",
    "    grades_collection.create_index([('Name', ASCENDING)], unique=True)\n",
    "\n",
    "    grades_data = [\n",
    "    {\"Name\": \"Govardhan Reddy Baddala\", \"MATH608\": 5, \"MATH615\": 8, \"CSCI605\": 7, \"ERTH600\": 6},\n",
    "    {\"Name\": \"Tushar A Bendarkar\", \"MATH608\": 5, \"MATH615\": 7, \"CSCI605\": 10, \"ERTH600\": 6},\n",
    "    {\"Name\": \"Amol Sanjay Bhalerao\", \"MATH608\": 7, \"MATH615\": 6, \"CSCI605\": 9, \"ERTH600\": 6},\n",
    "    {\"Name\": \"Khushi - Choudhary\", \"MATH608\": 9, \"MATH615\": 9, \"CSCI605\": 10, \"ERTH600\": 8},\n",
    "    {\"Name\": \"Yizhak D Cohen\", \"MATH608\": 10, \"MATH615\": 6, \"CSCI605\": 9, \"ERTH600\": 10},\n",
    "    {\"Name\": \"Jesse C Coulson\", \"MATH608\": 8, \"MATH615\": 6, \"CSCI605\": 6, \"ERTH600\": 5},\n",
    "    {\"Name\": \"Nate Dailey\", \"MATH608\": 6, \"MATH615\": 10, \"CSCI605\": 9, \"ERTH600\": 10},\n",
    "    {\"Name\": \"Zakir Sajid Elaskar\", \"MATH608\": 9, \"MATH615\": 7, \"CSCI605\": 8, \"ERTH600\": 7},\n",
    "    {\"Name\": \"Anand Kumar Gangavarapu\", \"MATH608\": 9, \"MATH615\": 8, \"CSCI605\": 10, \"ERTH600\": 5},\n",
    "    {\"Name\": \"Snehitha Gorantla\", \"MATH608\": 8, \"MATH615\": 10, \"CSCI605\": 5, \"ERTH600\": 5},\n",
    "    {\"Name\": \"Kalyaan Kanugula\", \"MATH608\": 10, \"MATH615\": 6, \"CSCI605\": 6, \"ERTH600\": 7},\n",
    "    {\"Name\": \"Angel M Martinez\", \"MATH608\": 9, \"MATH615\": 5, \"CSCI605\": 9, \"ERTH600\": 8},\n",
    "    {\"Name\": \"Aditi N More\", \"MATH608\": 6, \"MATH615\": 7, \"CSCI605\": 9, \"ERTH600\": 7},\n",
    "    {\"Name\": \"Nayana Nagarajappa\", \"MATH608\": 10, \"MATH615\": 8, \"CSCI605\": 9, \"ERTH600\": 9},\n",
    "    {\"Name\": \"Siddhi M Pandit\", \"MATH608\": 9, \"MATH615\": 9, \"CSCI605\": 5, \"ERTH600\": 8},\n",
    "    {\"Name\": \"Shivam G Pawar\", \"MATH608\": 9, \"MATH615\": 5, \"CSCI605\": 10, \"ERTH600\": 8},\n",
    "    {\"Name\": \"Pushpak Sunil Rane\", \"MATH608\": 8, \"MATH615\": 8, \"CSCI605\": 6, \"ERTH600\": 9},\n",
    "    {\"Name\": \"Kusuma Reddyvari\", \"MATH608\": 7, \"MATH615\": 7, \"CSCI605\": 8, \"ERTH600\": 9},\n",
    "    {\"Name\": \"Abinesh S\", \"MATH608\": 9, \"MATH615\": 5, \"CSCI605\": 5, \"ERTH600\": 9},\n",
    "    {\"Name\": \"Zeba Samiya\", \"MATH608\": 7, \"MATH615\": 7, \"CSCI605\": 8, \"ERTH600\": 6},\n",
    "    {\"Name\": \"Jayana Sarma\", \"MATH608\": 6, \"MATH615\": 6, \"CSCI605\": 6, \"ERTH600\": 9},\n",
    "    {\"Name\": \"Siddhika Seth\", \"MATH608\": 8, \"MATH615\": 7, \"CSCI605\": 9, \"ERTH600\": 7},\n",
    "    {\"Name\": \"Pratik Thatte\", \"MATH608\": 9, \"MATH615\": 6, \"CSCI605\": 6, \"ERTH600\": 5}\n",
    "    ]\n",
    "\n",
    "    try: \n",
    "        grades_collection.insert_many(grades_data, ordered=False) \n",
    "        print(\"Data has been created and stored in MongoDB collection 'grades'.\") \n",
    "    except BulkWriteError as e: \n",
    "        print(\"Some documents were not inserted due to duplication: \",e.details)\n",
    "    \n",
    "    student.close()\n",
    "\n",
    "store_data()"
   ]
  },
  {
   "cell_type": "code",
   "execution_count": 23,
   "id": "c8d2fdef-ef3a-4c20-b42c-787c023c40c8",
   "metadata": {},
   "outputs": [
    {
     "name": "stdout",
     "output_type": "stream",
     "text": [
      "                       Name  MATH608  MATH615  CSCI605  ERTH600\n",
      "0   Govardhan Reddy Baddala        5        8        7        6\n",
      "1        Tushar A Bendarkar        5        7       10        6\n",
      "2      Amol Sanjay Bhalerao        7        6        9        6\n",
      "3        Khushi - Choudhary        9        9       10        8\n",
      "4            Yizhak D Cohen       10        6        9       10\n",
      "5           Jesse C Coulson        8        6        6        5\n",
      "6               Nate Dailey        6       10        9       10\n",
      "7       Zakir Sajid Elaskar        9        7        8        7\n",
      "8   Anand Kumar Gangavarapu        9        8       10        5\n",
      "9         Snehitha Gorantla        8       10        5        5\n",
      "10         Kalyaan Kanugula       10        6        6        7\n",
      "11         Angel M Martinez        9        5        9        8\n",
      "12             Aditi N More        6        7        9        7\n",
      "13       Nayana Nagarajappa       10        8        9        9\n",
      "14          Siddhi M Pandit        9        9        5        8\n",
      "15           Shivam G Pawar        9        5       10        8\n",
      "16       Pushpak Sunil Rane        8        8        6        9\n",
      "17         Kusuma Reddyvari        7        7        8        9\n",
      "18                Abinesh S        9        5        5        9\n",
      "19              Zeba Samiya        7        7        8        6\n",
      "20             Jayana Sarma        6        6        6        9\n",
      "21            Siddhika Seth        8        7        9        7\n",
      "22            Pratik Thatte        9        6        6        5\n"
     ]
    }
   ],
   "source": [
    "from pymongo import MongoClient\n",
    "import pandas as pd\n",
    "\n",
    "def fetch_data_from_mongodb():\n",
    "    client = MongoClient('mongodb://localhost:27017/')\n",
    "    \n",
    "    db = client[\"grades_db\"]\n",
    "    collection = db[\"grades\"]\n",
    "    \n",
    "    data = list(collection.find())\n",
    "    \n",
    "    client.close()\n",
    "    \n",
    "    return data\n",
    "\n",
    "def print_data(data):\n",
    "    df = pd.DataFrame(data)\n",
    "    \n",
    "    df.drop(columns=['_id'], inplace=True)\n",
    "    \n",
    "    print(df)\n",
    "\n",
    "data = fetch_data_from_mongodb()\n",
    "print_data(data)"
   ]
  },
  {
   "cell_type": "code",
   "execution_count": 21,
   "id": "09692aee-fb82-4a5c-9bcf-4899d2c1dd14",
   "metadata": {},
   "outputs": [
    {
     "name": "stdout",
     "output_type": "stream",
     "text": [
      "Database 'grades_db' has been deleted.\n"
     ]
    }
   ],
   "source": [
    "from pymongo import MongoClient\n",
    "\n",
    "def delete_database():\n",
    "    client = MongoClient('mongodb://localhost:27017/')\n",
    "    \n",
    "    client.drop_database('grades_db')\n",
    "    \n",
    "    client.close()\n",
    "    print(\"Database 'grades_db' has been deleted.\")\n",
    "\n",
    "delete_database()"
   ]
  },
  {
   "cell_type": "code",
   "execution_count": 18,
   "id": "28bcd535-fc5c-4173-bdcb-75610e9b97f6",
   "metadata": {},
   "outputs": [
    {
     "name": "stdout",
     "output_type": "stream",
     "text": [
      "Document with Name 'Govardhan Reddy Baddala' has been deleted.\n"
     ]
    }
   ],
   "source": [
    "def delete_record(name):\n",
    "    client = MongoClient('mongodb://localhost:27017/')\n",
    "    \n",
    "    db = client[\"grades_db\"]\n",
    "    collection = db[\"grades\"]\n",
    "    \n",
    "    result = collection.delete_one({\"Name\": name})\n",
    "    print(f\"Document with Name '{name}' has been deleted.\")\n",
    "    \n",
    "    client.close()\n",
    "\n",
    "delete_record(\"Govardhan Reddy Baddala\")"
   ]
  },
  {
   "cell_type": "code",
   "execution_count": 19,
   "id": "5f90fe4c-9249-47d1-adb3-8d871d9296f2",
   "metadata": {},
   "outputs": [
    {
     "name": "stdout",
     "output_type": "stream",
     "text": [
      "'Govardhan Reddy Baddala' or no change was made.\n"
     ]
    }
   ],
   "source": [
    "def update_record(name, new_math608_score):\n",
    "    client = MongoClient('mongodb://localhost:27017/')\n",
    "    \n",
    "    db = client[\"grades_db\"]\n",
    "    collection = db[\"grades\"]\n",
    "    \n",
    "    result = collection.update_one(\n",
    "        {\"Name\": name},\n",
    "        {\"$set\": {\"MATH608\": new_math608_score}}\n",
    "    )\n",
    "    \n",
    "    if result.modified_count > 0:\n",
    "        print(f\"'{name}' has been updated with new MATH608 score: {new_math608_score}\")\n",
    "    else:\n",
    "        print(f\"'{name}' or no change was made.\")\n",
    "    \n",
    "    client.close()\n",
    "\n",
    "update_record(\"Govardhan Reddy Baddala\", 10)"
   ]
  },
  {
   "cell_type": "code",
   "execution_count": null,
   "id": "a2ac0f0c-4ccc-485c-b818-e6a33f0f6017",
   "metadata": {},
   "outputs": [],
   "source": []
  }
 ],
 "metadata": {
  "kernelspec": {
   "display_name": "Python 3 (ipykernel)",
   "language": "python",
   "name": "python3"
  },
  "language_info": {
   "codemirror_mode": {
    "name": "ipython",
    "version": 3
   },
   "file_extension": ".py",
   "mimetype": "text/x-python",
   "name": "python",
   "nbconvert_exporter": "python",
   "pygments_lexer": "ipython3",
   "version": "3.12.3"
  }
 },
 "nbformat": 4,
 "nbformat_minor": 5
}
