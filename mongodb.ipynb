{
 "cells": [
  {
   "cell_type": "markdown",
   "id": "85b085c8-b250-4634-b845-75412b5d18c1",
   "metadata": {},
   "source": [
    "# Create MongoDB Database"
   ]
  },
  {
   "cell_type": "code",
   "execution_count": 11,
   "id": "1a5270b2-9d55-4a30-af30-23204b94d41f",
   "metadata": {},
   "outputs": [
    {
     "name": "stdout",
     "output_type": "stream",
     "text": [
      "Data has been created and stored in MongoDB collection 'grades'.\n"
     ]
    }
   ],
   "source": [
    "from pymongo import MongoClient,ASCENDING\n",
    "from pymongo.errors import BulkWriteError\n",
    "\n",
    "def store_data():\n",
    "    # Connect to MongoDB (default is localhost:27017)\n",
    "    student = MongoClient('mongodb://localhost:27017/')\n",
    "    \n",
    "    # Create or access the database\n",
    "    ds = student[\"grades_db\"]\n",
    "    \n",
    "    # Create or access the collection\n",
    "    grades_collection = ds[\"grades\"]\n",
    "    \n",
    "    # Ensure the collection has an index on 'Name' to avoid duplicates\n",
    "    grades_collection.create_index([('Name', ASCENDING)], unique=True)\n",
    "\n",
    "    grades_data = [\n",
    "    {\"Name\": \"Govardhan Reddy Baddala\", \"MATH608\": 5, \"MATH615\": 8, \"CSCI605\": 7, \"ERTH600\": 6},\n",
    "    {\"Name\": \"Tushar A Bendarkar\", \"MATH608\": 5, \"MATH615\": 7, \"CSCI605\": 10, \"ERTH600\": 6},\n",
    "    {\"Name\": \"Amol Sanjay Bhalerao\", \"MATH608\": 7, \"MATH615\": 6, \"CSCI605\": 9, \"ERTH600\": 6},\n",
    "    {\"Name\": \"Khushi - Choudhary\", \"MATH608\": 9, \"MATH615\": 9, \"CSCI605\": 10, \"ERTH600\": 8},\n",
    "    {\"Name\": \"Yizhak D Cohen\", \"MATH608\": 10, \"MATH615\": 6, \"CSCI605\": 9, \"ERTH600\": 10},\n",
    "    {\"Name\": \"Jesse C Coulson\", \"MATH608\": 8, \"MATH615\": 6, \"CSCI605\": 6, \"ERTH600\": 5},\n",
    "    {\"Name\": \"Nate Dailey\", \"MATH608\": 6, \"MATH615\": 10, \"CSCI605\": 9, \"ERTH600\": 10},\n",
    "    {\"Name\": \"Zakir Sajid Elaskar\", \"MATH608\": 9, \"MATH615\": 7, \"CSCI605\": 8, \"ERTH600\": 7},\n",
    "    {\"Name\": \"Anand Kumar Gangavarapu\", \"MATH608\": 9, \"MATH615\": 8, \"CSCI605\": 10, \"ERTH600\": 5},\n",
    "    {\"Name\": \"Snehitha Gorantla\", \"MATH608\": 8, \"MATH615\": 10, \"CSCI605\": 5, \"ERTH600\": 5},\n",
    "    {\"Name\": \"Kalyaan Kanugula\", \"MATH608\": 10, \"MATH615\": 6, \"CSCI605\": 6, \"ERTH600\": 7},\n",
    "    {\"Name\": \"Angel M Martinez\", \"MATH608\": 9, \"MATH615\": 5, \"CSCI605\": 9, \"ERTH600\": 8},\n",
    "    {\"Name\": \"Aditi N More\", \"MATH608\": 6, \"MATH615\": 7, \"CSCI605\": 9, \"ERTH600\": 7},\n",
    "    {\"Name\": \"Nayana Nagarajappa\", \"MATH608\": 10, \"MATH615\": 8, \"CSCI605\": 9, \"ERTH600\": 9},\n",
    "    {\"Name\": \"Siddhi M Pandit\", \"MATH608\": 9, \"MATH615\": 9, \"CSCI605\": 5, \"ERTH600\": 8},\n",
    "    {\"Name\": \"Shivam G Pawar\", \"MATH608\": 9, \"MATH615\": 5, \"CSCI605\": 10, \"ERTH600\": 8},\n",
    "    {\"Name\": \"Pushpak Sunil Rane\", \"MATH608\": 8, \"MATH615\": 8, \"CSCI605\": 6, \"ERTH600\": 9},\n",
    "    {\"Name\": \"Kusuma Reddyvari\", \"MATH608\": 7, \"MATH615\": 7, \"CSCI605\": 8, \"ERTH600\": 9},\n",
    "    {\"Name\": \"Abinesh S\", \"MATH608\": 9, \"MATH615\": 5, \"CSCI605\": 5, \"ERTH600\": 9},\n",
    "    {\"Name\": \"Zeba Samiya\", \"MATH608\": 7, \"MATH615\": 7, \"CSCI605\": 8, \"ERTH600\": 6},\n",
    "    {\"Name\": \"Jayana Sarma\", \"MATH608\": 6, \"MATH615\": 6, \"CSCI605\": 6, \"ERTH600\": 9},\n",
    "    {\"Name\": \"Siddhika Seth\", \"MATH608\": 8, \"MATH615\": 7, \"CSCI605\": 9, \"ERTH600\": 7},\n",
    "    {\"Name\": \"Pratik Thatte\", \"MATH608\": 9, \"MATH615\": 6, \"CSCI605\": 6, \"ERTH600\": 5}\n",
    "    ]\n",
    "\n",
    "    # Insert sample data into the collection\n",
    "    try: \n",
    "        # Insert sample data into the collection \n",
    "        grades_collection.insert_many(grades_data, ordered=False) \n",
    "        print(\"Data has been created and stored in MongoDB collection 'grades'.\") \n",
    "    except BulkWriteError as e: \n",
    "        # Catch any duplication errors and report them \n",
    "        print(\"Some documents were not inserted due to duplication: \",e.details)\n",
    "    \n",
    "\n",
    "    # Close the connection\n",
    "    student.close()\n",
    "\n",
    "# Main execution\n",
    "if __name__ == \"__main__\":\n",
    "    store_data()"
   ]
  },
  {
   "cell_type": "code",
   "execution_count": 9,
   "id": "c8d2fdef-ef3a-4c20-b42c-787c023c40c8",
   "metadata": {},
   "outputs": [],
   "source": [
    "from pymongo import MongoClient\n",
    "import pandas as pd\n",
    "\n",
    "def fetch_data_from_mongodb():\n",
    "    # Connect to MongoDB (default is localhost:27017)\n",
    "    client = MongoClient('mongodb://localhost:27017/')\n",
    "    \n",
    "    # Access the database and collection\n",
    "    db = client[\"grades_db\"]\n",
    "    collection = db[\"grades\"]\n",
    "    \n",
    "    # Fetch all documents from the collection\n",
    "    data = list(collection.find())\n",
    "    \n",
    "    # Close the connection\n",
    "    client.close()\n",
    "    \n",
    "    return data\n",
    "\n",
    "def print_data(data):\n",
    "    # Convert the data into a pandas DataFrame\n",
    "    df = pd.DataFrame(data)\n",
    "    \n",
    "    # Drop the MongoDB object id column for cleaner output\n",
    "    df.drop(columns=['_id'], inplace=True)\n",
    "    \n",
    "    # Print the DataFrame\n",
    "    print(df)\n",
    "\n",
    "def main():\n",
    "    data = fetch_data_from_mongodb()\n",
    "    print_data(data)"
   ]
  },
  {
   "cell_type": "code",
   "execution_count": 10,
   "id": "09692aee-fb82-4a5c-9bcf-4899d2c1dd14",
   "metadata": {},
   "outputs": [
    {
     "name": "stdout",
     "output_type": "stream",
     "text": [
      "Database 'grades_db' has been deleted.\n"
     ]
    }
   ],
   "source": [
    "from pymongo import MongoClient\n",
    "\n",
    "def delete_database():\n",
    "    # Connect to MongoDB (default is localhost:27017)\n",
    "    client = MongoClient('mongodb://localhost:27017/')\n",
    "    \n",
    "    # Drop the database\n",
    "    client.drop_database('grades_db')\n",
    "    \n",
    "    # Close the connection\n",
    "    client.close()\n",
    "    print(\"Database 'grades_db' has been deleted.\")\n",
    "\n",
    "# Main execution\n",
    "if __name__ == \"__main__\":\n",
    "    delete_database()\n"
   ]
  },
  {
   "cell_type": "code",
   "execution_count": null,
   "id": "28bcd535-fc5c-4173-bdcb-75610e9b97f6",
   "metadata": {},
   "outputs": [],
   "source": []
  },
  {
   "cell_type": "code",
   "execution_count": null,
   "id": "5f90fe4c-9249-47d1-adb3-8d871d9296f2",
   "metadata": {},
   "outputs": [],
   "source": []
  }
 ],
 "metadata": {
  "kernelspec": {
   "display_name": "Python 3 (ipykernel)",
   "language": "python",
   "name": "python3"
  },
  "language_info": {
   "codemirror_mode": {
    "name": "ipython",
    "version": 3
   },
   "file_extension": ".py",
   "mimetype": "text/x-python",
   "name": "python",
   "nbconvert_exporter": "python",
   "pygments_lexer": "ipython3",
   "version": "3.12.3"
  }
 },
 "nbformat": 4,
 "nbformat_minor": 5
}
