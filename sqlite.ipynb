{
 "cells": [
  {
   "cell_type": "markdown",
   "id": "213967de-2529-458a-a42c-72e8c2d71431",
   "metadata": {},
   "source": [
    "# Create SQLite Database"
   ]
  },
  {
   "cell_type": "code",
   "execution_count": 3,
   "id": "99de6e06-de14-4269-b0be-1e077cdd9e90",
   "metadata": {},
   "outputs": [
    {
     "name": "stdout",
     "output_type": "stream",
     "text": [
      "    id                     Name  MATH608  MATH615  CSCI605  ERTH600\n",
      "0    1  Govardhan Reddy Baddala        5        8        7        6\n",
      "1    2       Tushar A Bendarkar        5        7       10        6\n",
      "2    3     Amol Sanjay Bhalerao        7        6        9        6\n",
      "3    4       Khushi - Choudhary        9        9       10        8\n",
      "4    5           Yizhak D Cohen       10        6        9       10\n",
      "5    6          Jesse C Coulson        8        6        6        5\n",
      "6    7              Nate Dailey        6       10        9       10\n",
      "7    8      Zakir Sajid Elaskar        9        7        8        7\n",
      "8    9  Anand Kumar Gangavarapu        9        8       10        5\n",
      "9   10        Snehitha Gorantla        8       10        5        5\n",
      "10  11         Kalyaan Kanugula       10        6        6        7\n",
      "11  12         Angel M Martinez        9        5        9        8\n",
      "12  13             Aditi N More        6        7        9        7\n",
      "13  14       Nayana Nagarajappa       10        8        9        9\n",
      "14  15          Siddhi M Pandit        9        9        5        8\n",
      "15  16           Shivam G Pawar        9        5       10        8\n",
      "16  17       Pushpak Sunil Rane        8        8        6        9\n",
      "17  18         Kusuma Reddyvari        7        7        8        9\n",
      "18  19                Abinesh S        9        5        5        9\n",
      "19  20              Zeba Samiya        7        7        8        6\n",
      "20  21             Jayana Sarma        6        6        6        9\n",
      "21  22            Siddhika Seth        8        7        9        7\n",
      "22  23            Pratik Thatte        9        6        6        5\n"
     ]
    }
   ],
   "source": [
    "import sqlite3\n",
    "import pandas as pd\n",
    "\n",
    "def store_data():\n",
    "    sqlite_conn = sqlite3.connect('sqlite_grades.db')\n",
    "    grade = sqlite_conn.cursor()\n",
    "\n",
    "    # Create a table\n",
    "    grade.execute('''\n",
    "    CREATE TABLE IF NOT EXISTS grades (\n",
    "        id INTEGER PRIMARY KEY,\n",
    "        Name TEXT UNIQUE,\n",
    "        MATH608 INTEGER,\n",
    "        MATH615 INTEGER,\n",
    "        CSCI605 INTEGER,\n",
    "        ERTH600 INTEGER\n",
    "    )\n",
    "    ''')\n",
    "\n",
    "    # Insert data\n",
    "    grades_data = [ (\"Govardhan Reddy Baddala\", 5, 8, 7, 6), \n",
    "                   (\"Tushar A Bendarkar\", 5, 7, 10, 6), \n",
    "                   (\"Amol Sanjay Bhalerao\", 7, 6, 9, 6), \n",
    "                   (\"Khushi - Choudhary\", 9, 9, 10, 8), \n",
    "                   (\"Yizhak D Cohen\", 10, 6, 9, 10), \n",
    "                   (\"Jesse C Coulson\", 8, 6, 6, 5), \n",
    "                   (\"Nate Dailey\", 6, 10, 9, 10), \n",
    "                   (\"Zakir Sajid Elaskar\", 9, 7, 8, 7), \n",
    "                   (\"Anand Kumar Gangavarapu\", 9, 8, 10, 5), \n",
    "                   (\"Snehitha Gorantla\", 8, 10, 5, 5), \n",
    "                   (\"Kalyaan Kanugula\", 10, 6, 6, 7), \n",
    "                   (\"Angel M Martinez\", 9, 5, 9, 8), \n",
    "                   (\"Aditi N More\", 6, 7, 9, 7), \n",
    "                   (\"Nayana Nagarajappa\", 10, 8, 9, 9), \n",
    "                   (\"Siddhi M Pandit\", 9, 9, 5, 8), \n",
    "                   (\"Shivam G Pawar\", 9, 5, 10, 8), \n",
    "                   (\"Pushpak Sunil Rane\", 8, 8, 6, 9), \n",
    "                   (\"Kusuma Reddyvari\", 7, 7, 8, 9), \n",
    "                   (\"Abinesh S\", 9, 5, 5, 9), \n",
    "                   (\"Zeba Samiya\", 7, 7, 8, 6), \n",
    "                   (\"Jayana Sarma\", 6, 6, 6, 9), \n",
    "                   (\"Siddhika Seth\", 8, 7, 9, 7), \n",
    "                   (\"Pratik Thatte\", 9, 6, 6, 5) ] \n",
    "    \n",
    "    # Insert multiple rows into the table \n",
    "    try:\n",
    "        grade.executemany('''INSERT INTO grades (Name, MATH608, MATH615, CSCI605, ERTH600) \n",
    "                                        VALUES (?, ?, ?, ?, ?) ''', grades_data) \n",
    "        df = pd.read_sql_query('SELECT * FROM grades', sqlite_conn)\n",
    "        print(df)\n",
    "    except sqlite3.IntegrityError as e:\n",
    "        print(f\"Error occurred: {e}\")\n",
    "    \n",
    "    # Commit changes and close the connection\n",
    "    sqlite_conn.commit()\n",
    "    sqlite_conn.close()\n",
    "\n",
    "store_data()"
   ]
  },
  {
   "cell_type": "code",
   "execution_count": 2,
   "id": "cc637df5-00eb-4dc1-b60b-9f8b9c6d636e",
   "metadata": {},
   "outputs": [
    {
     "name": "stdout",
     "output_type": "stream",
     "text": [
      "Database 'sqlite_grades.db' has been deleted.\n"
     ]
    }
   ],
   "source": [
    "import os\n",
    "\n",
    "def delete_database():\n",
    "    database_path = 'sqlite_grades.db'\n",
    "    \n",
    "    if os.path.exists(database_path):\n",
    "        os.remove(database_path)\n",
    "        print(f\"Database '{database_path}' has been deleted.\")\n",
    "    else:\n",
    "        print(f\"Database '{database_path}' does not exist.\")\n",
    "\n",
    "delete_database()"
   ]
  },
  {
   "cell_type": "code",
   "execution_count": 10,
   "id": "21039154-5791-4a0e-a5c4-a9cd6067774b",
   "metadata": {},
   "outputs": [
    {
     "name": "stdout",
     "output_type": "stream",
     "text": [
      "Row with Name 'Govardhan Reddy Baddala' has been deleted.\n"
     ]
    }
   ],
   "source": [
    "def delete_row(name):\n",
    "    # Connect to SQLite database\n",
    "    sqlite_conn = sqlite3.connect('sqlite_grades.db')\n",
    "    grade = sqlite_conn.cursor()\n",
    "    \n",
    "    # Delete row based on the name\n",
    "    grade.execute('DELETE FROM grades WHERE Name = ?', (name,))\n",
    "    \n",
    "    # Commit changes and close the connection\n",
    "    sqlite_conn.commit()\n",
    "    sqlite_conn.close()\n",
    "    print(f\"Row with Name '{name}' has been deleted.\")\n",
    "\n",
    "    \n",
    "delete_row(\"Govardhan Reddy Baddala\")"
   ]
  },
  {
   "cell_type": "code",
   "execution_count": 9,
   "id": "79b75ae2-d2ad-4056-bac0-ad076fa91736",
   "metadata": {},
   "outputs": [
    {
     "name": "stdout",
     "output_type": "stream",
     "text": [
      "Row with Name 'Govardhan Reddy Baddala' has been updated with new MATH608 score: 10\n"
     ]
    }
   ],
   "source": [
    "def update_row(name, new_math608_score):\n",
    "    # Connect to SQLite database\n",
    "    sqlite_conn = sqlite3.connect('sqlite_grades.db')\n",
    "    grade = sqlite_conn.cursor()\n",
    "    \n",
    "    # Update the MATH608 score for the specified name\n",
    "    grade.execute('UPDATE grades SET MATH608 = ? WHERE Name = ?', (new_math608_score, name))\n",
    "    \n",
    "    # Commit changes and close the connection\n",
    "    sqlite_conn.commit()\n",
    "    sqlite_conn.close()\n",
    "    print(f\"Row with Name '{name}' has been updated with new MATH608 score: {new_math608_score}\")\n",
    "\n",
    "update_row(\"Govardhan Reddy Baddala\", 10)"
   ]
  },
  {
   "cell_type": "code",
   "execution_count": null,
   "id": "e1dfd504-eaeb-4b75-8fb7-e0857f8febdd",
   "metadata": {},
   "outputs": [],
   "source": []
  }
 ],
 "metadata": {
  "kernelspec": {
   "display_name": "Python 3 (ipykernel)",
   "language": "python",
   "name": "python3"
  },
  "language_info": {
   "codemirror_mode": {
    "name": "ipython",
    "version": 3
   },
   "file_extension": ".py",
   "mimetype": "text/x-python",
   "name": "python",
   "nbconvert_exporter": "python",
   "pygments_lexer": "ipython3",
   "version": "3.12.3"
  }
 },
 "nbformat": 4,
 "nbformat_minor": 5
}
