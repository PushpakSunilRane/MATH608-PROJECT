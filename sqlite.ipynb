{
 "cells": [
  {
   "cell_type": "markdown",
   "id": "213967de-2529-458a-a42c-72e8c2d71431",
   "metadata": {},
   "source": [
    "# Create SQLite Database"
   ]
  },
  {
   "cell_type": "code",
   "execution_count": 11,
   "id": "99de6e06-de14-4269-b0be-1e077cdd9e90",
   "metadata": {},
   "outputs": [
    {
     "name": "stdout",
     "output_type": "stream",
     "text": [
      "Data has been created and stored in 'sqlite_example.db'.\n"
     ]
    }
   ],
   "source": [
    "# create_store_data.py\n",
    "\n",
    "import sqlite3\n",
    "\n",
    "def create_and_store_data():\n",
    "    # Connect to SQLite database (or create it if it doesn't exist)\n",
    "    sqlite_conn = sqlite3.connect('sqlite_example.db')\n",
    "    cursor = sqlite_conn.cursor()\n",
    "\n",
    "    # Create a table\n",
    "    cursor.execute('''\n",
    "    CREATE TABLE IF NOT EXISTS sales (\n",
    "        id INTEGER PRIMARY KEY,\n",
    "        product TEXT,\n",
    "        quantity INTEGER\n",
    "    )\n",
    "    ''')\n",
    "\n",
    "    # Insert sample data\n",
    "    cursor.execute(\"INSERT INTO sales (product, quantity) VALUES ('Product A', 30)\")\n",
    "    cursor.execute(\"INSERT INTO sales (product, quantity) VALUES ('Product B', 20)\")\n",
    "    cursor.execute(\"INSERT INTO sales (product, quantity) VALUES ('Product C', 50)\")\n",
    "\n",
    "    # Commit changes and close the connection\n",
    "    sqlite_conn.commit()\n",
    "    sqlite_conn.close()\n",
    "    print(\"Data has been created and stored in 'sqlite_example.db'.\")\n",
    "\n",
    "# Main execution\n",
    "if __name__ == \"__main__\":\n",
    "    create_and_store_data()"
   ]
  },
  {
   "cell_type": "code",
   "execution_count": null,
   "id": "cc637df5-00eb-4dc1-b60b-9f8b9c6d636e",
   "metadata": {},
   "outputs": [],
   "source": []
  },
  {
   "cell_type": "code",
   "execution_count": null,
   "id": "21039154-5791-4a0e-a5c4-a9cd6067774b",
   "metadata": {},
   "outputs": [],
   "source": []
  },
  {
   "cell_type": "code",
   "execution_count": null,
   "id": "79b75ae2-d2ad-4056-bac0-ad076fa91736",
   "metadata": {},
   "outputs": [],
   "source": []
  }
 ],
 "metadata": {
  "kernelspec": {
   "display_name": "Python 3 (ipykernel)",
   "language": "python",
   "name": "python3"
  },
  "language_info": {
   "codemirror_mode": {
    "name": "ipython",
    "version": 3
   },
   "file_extension": ".py",
   "mimetype": "text/x-python",
   "name": "python",
   "nbconvert_exporter": "python",
   "pygments_lexer": "ipython3",
   "version": "3.12.3"
  }
 },
 "nbformat": 4,
 "nbformat_minor": 5
}
