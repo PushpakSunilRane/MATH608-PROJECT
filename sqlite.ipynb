{
 "cells": [
  {
   "cell_type": "markdown",
   "id": "213967de-2529-458a-a42c-72e8c2d71431",
   "metadata": {},
   "source": [
    "# Create SQLite Database"
   ]
  },
  {
   "cell_type": "code",
   "execution_count": 5,
   "id": "99de6e06-de14-4269-b0be-1e077cdd9e90",
   "metadata": {},
   "outputs": [
    {
     "name": "stdout",
     "output_type": "stream",
     "text": [
      "Error occurred: UNIQUE constraint failed: grades.Name\n",
      "Data has been created and stored in 'sqlite_grades.db'.\n"
     ]
    }
   ],
   "source": [
    "import sqlite3\n",
    "import pandas as pd\n",
    "\n",
    "def store_data():\n",
    "    sqlite_conn = sqlite3.connect('sqlite_grades.db')\n",
    "    grade = sqlite_conn.cursor()\n",
    "\n",
    "    # Create a table\n",
    "    grade.execute('''\n",
    "    CREATE TABLE IF NOT EXISTS grades (\n",
    "        id INTEGER PRIMARY KEY,\n",
    "        Name TEXT UNIQUE,\n",
    "        MATH608 INTEGER,\n",
    "        MATH615 INTEGER,\n",
    "        CSCI605 INTEGER,\n",
    "        ERTH600 INTEGER\n",
    "    )\n",
    "    ''')\n",
    "\n",
    "    # Insert sample data\n",
    "    grades_data = [ (\"Govardhan Reddy Baddala\", 5, 8, 7, 6), \n",
    "                   (\"Tushar A Bendarkar\", 5, 7, 10, 6), \n",
    "                   (\"Amol Sanjay Bhalerao\", 7, 6, 9, 6), \n",
    "                   (\"Khushi - Choudhary\", 9, 9, 10, 8), \n",
    "                   (\"Yizhak D Cohen\", 10, 6, 9, 10), \n",
    "                   (\"Jesse C Coulson\", 8, 6, 6, 5), \n",
    "                   (\"Nate Dailey\", 6, 10, 9, 10), \n",
    "                   (\"Zakir Sajid Elaskar\", 9, 7, 8, 7), \n",
    "                   (\"Anand Kumar Gangavarapu\", 9, 8, 10, 5), \n",
    "                   (\"Snehitha Gorantla\", 8, 10, 5, 5), \n",
    "                   (\"Kalyaan Kanugula\", 10, 6, 6, 7), \n",
    "                   (\"Angel M Martinez\", 9, 5, 9, 8), \n",
    "                   (\"Aditi N More\", 6, 7, 9, 7), \n",
    "                   (\"Nayana Nagarajappa\", 10, 8, 9, 9), \n",
    "                   (\"Siddhi M Pandit\", 9, 9, 5, 8), \n",
    "                   (\"Shivam G Pawar\", 9, 5, 10, 8), \n",
    "                   (\"Pushpak Sunil Rane\", 8, 8, 6, 9), \n",
    "                   (\"Kusuma Reddyvari\", 7, 7, 8, 9), \n",
    "                   (\"Abinesh S\", 9, 5, 5, 9), \n",
    "                   (\"Zeba Samiya\", 7, 7, 8, 6), \n",
    "                   (\"Jayana Sarma\", 6, 6, 6, 9), \n",
    "                   (\"Siddhika Seth\", 8, 7, 9, 7), \n",
    "                   (\"Pratik Thatte\", 9, 6, 6, 5) ] \n",
    "    \n",
    "    # Insert multiple rows into the table \n",
    "    try:\n",
    "        grade.executemany('''INSERT INTO grades (Name, MATH608, MATH615, CSCI605, ERTH600) VALUES (?, ?, ?, ?, ?) ''', grades_data) \n",
    "        df = pd.read_sql_query('SELECT * FROM grades', sqlite_conn)\n",
    "        print(df)\n",
    "    except sqlite3.IntegrityError as e:\n",
    "        print(f\"Error occurred: {e}\")\n",
    "    \n",
    "    # Commit changes and close the connection\n",
    "    sqlite_conn.commit()\n",
    "    sqlite_conn.close()\n",
    "    print(\"Data has been created and stored in 'sqlite_grades.db'.\")\n",
    "\n",
    "# Main execution\n",
    "if __name__ == \"__main__\":\n",
    "    store_data()"
   ]
  },
  {
   "cell_type": "code",
   "execution_count": null,
   "id": "cc637df5-00eb-4dc1-b60b-9f8b9c6d636e",
   "metadata": {},
   "outputs": [],
   "source": []
  },
  {
   "cell_type": "code",
   "execution_count": null,
   "id": "21039154-5791-4a0e-a5c4-a9cd6067774b",
   "metadata": {},
   "outputs": [],
   "source": []
  },
  {
   "cell_type": "code",
   "execution_count": null,
   "id": "79b75ae2-d2ad-4056-bac0-ad076fa91736",
   "metadata": {},
   "outputs": [],
   "source": []
  }
 ],
 "metadata": {
  "kernelspec": {
   "display_name": "Python 3 (ipykernel)",
   "language": "python",
   "name": "python3"
  },
  "language_info": {
   "codemirror_mode": {
    "name": "ipython",
    "version": 3
   },
   "file_extension": ".py",
   "mimetype": "text/x-python",
   "name": "python",
   "nbconvert_exporter": "python",
   "pygments_lexer": "ipython3",
   "version": "3.12.3"
  }
 },
 "nbformat": 4,
 "nbformat_minor": 5
}
